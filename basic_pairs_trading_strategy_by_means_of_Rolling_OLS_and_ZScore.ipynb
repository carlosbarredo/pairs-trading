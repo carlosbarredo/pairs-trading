{
 "cells": [
  {
   "cell_type": "code",
   "execution_count": null,
   "id": "868018b7",
   "metadata": {},
   "outputs": [],
   "source": [
    "import pandas as pd\n",
    "import numpy as np\n",
    "from statsmodels.regression.rolling import RollingOLS"
   ]
  },
  {
   "cell_type": "code",
   "execution_count": null,
   "id": "5600de26",
   "metadata": {},
   "outputs": [],
   "source": [
    "import pandas as pd\n",
    "import numpy as np\n",
    "from statsmodels.regression.rolling import RollingOLS\n",
    "\n",
    "def pairs_trading(data1, data2, capital, window=100, zscore_entry=2, zscore_exit=-2):\n",
    "    # Calculate the rolling hedge ratio using OLS\n",
    "    ols = RollingOLS(y=data2, x=data1, window=window, intercept=False)\n",
    "    hedge_ratio = ols.fit().params[0]\n",
    "\n",
    "    # Calculate the spread and the z-score\n",
    "    spread = data2 - hedge_ratio * data1\n",
    "    spread_mean = spread.rolling(window=window).mean()\n",
    "    spread_std = spread.rolling(window=window).std()\n",
    "    zscore = (spread - spread_mean) / spread_std\n",
    "\n",
    "    # Generate trading signals\n",
    "    entry_signal = np.where(zscore > zscore_entry, 1, 0)\n",
    "    entry_signal = np.where(zscore < -zscore_entry, -1, entry_signal)\n",
    "    exit_signal = np.where(zscore < zscore_exit, -1, 0)\n",
    "    exit_signal = np.where(zscore > -zscore_exit, 1, exit_signal)\n",
    "    trade_signal = entry_signal + exit_signal\n",
    "    trade_signal = trade_signal.fillna(method='ffill')\n",
    "\n",
    "    # Calculate the value of each instrument\n",
    "    price1 = data1\n",
    "    price2 = data2\n",
    "    value1 = price1 * hedge_ratio\n",
    "    value2 = price2\n",
    "    value = value1 + value2\n",
    "\n",
    "    # Update the quantities for each instrument\n",
    "    positions = pd.DataFrame({'signal': trade_signal})\n",
    "    positions['pos1'] = trade_signal * (capital / price1) * (value1 / value)\n",
    "    positions['pos2'] = -1 * trade_signal * (capital / price2) * (value2 / value)\n",
    "\n",
    "    return positions"
   ]
  },
  {
   "cell_type": "markdown",
   "id": "74ef248b",
   "metadata": {},
   "source": [
    "In the code, the short position is taken in instrument 2 and the long position is taken in instrument 1 because the hedge ratio is calculated using instrument 1 as the explanatory variable and instrument 2 as the response variable. The hedge ratio represents the ratio of the investment in instrument 1 to the investment in instrument 2 to achieve a hedge or neutral position.\n",
    "\n",
    "When the z-score is greater than the entry threshold, a long position is taken in instrument 1 and a short position is taken in instrument 2, so that the spread between the two instruments remains close to zero. On the other hand, when the z-score is less than the exit threshold, the long and short positions are closed, effectively returning the portfolio to a neutral position.\n",
    "\n",
    "In this way, the code implements a pairs trading strategy where the goal is to profit from the spread between two instruments by taking long and short positions in them.\n"
   ]
  },
  {
   "cell_type": "code",
   "execution_count": null,
   "id": "76328fb5",
   "metadata": {},
   "outputs": [],
   "source": []
  },
  {
   "cell_type": "markdown",
   "id": "0b083895",
   "metadata": {},
   "source": [
    "What would you suggest, 1 or 2?:"
   ]
  },
  {
   "cell_type": "code",
   "execution_count": null,
   "id": "d3efa7f6",
   "metadata": {},
   "outputs": [],
   "source": [
    "1#\n",
    "positions['pos1'] = trade_signal * (capital / price1) * (value1 / value)\n",
    "positions['pos2'] = -1 * trade_signal * (capital / price2) * (value2 / value)"
   ]
  },
  {
   "cell_type": "code",
   "execution_count": null,
   "id": "91f0b3bc",
   "metadata": {},
   "outputs": [],
   "source": [
    "2#\n",
    "positions['pos1'] = trade_signal * (capital / price1) * (1 / 2)\n",
    "positions['pos2'] = -1 * trade_signal * (capital / price2) * (1 / 2)"
   ]
  },
  {
   "cell_type": "markdown",
   "id": "a8b00617",
   "metadata": {},
   "source": [
    "Obviously, option 1."
   ]
  },
  {
   "cell_type": "markdown",
   "id": "016c7489",
   "metadata": {},
   "source": [
    "Option 1 calculates the positions based on the value of each instrument, taking into account the hedge ratio, which represents the ratio of investment in instrument 1 to instrument 2 to achieve a hedge or neutral position. By using the value of each instrument to calculate the positions, this approach ensures that the portfolio remains hedge or neutral, as desired in a pairs trading strategy."
   ]
  },
  {
   "cell_type": "markdown",
   "id": "7cac9ab4",
   "metadata": {},
   "source": [
    "The option 2 calculates the positions based on a fixed allocation, which may not result in a hedge or neutral position and may not align with the goals of a pairs trading strategy."
   ]
  },
  {
   "cell_type": "code",
   "execution_count": null,
   "id": "6a1819a8",
   "metadata": {},
   "outputs": [],
   "source": []
  }
 ],
 "metadata": {
  "kernelspec": {
   "display_name": "Python 3 (ipykernel)",
   "language": "python",
   "name": "python3"
  },
  "language_info": {
   "codemirror_mode": {
    "name": "ipython",
    "version": 3
   },
   "file_extension": ".py",
   "mimetype": "text/x-python",
   "name": "python",
   "nbconvert_exporter": "python",
   "pygments_lexer": "ipython3",
   "version": "3.9.13"
  }
 },
 "nbformat": 4,
 "nbformat_minor": 5
}
